{
 "cells": [
  {
   "cell_type": "code",
   "execution_count": 1,
   "metadata": {},
   "outputs": [
    {
     "data": {
      "application/javascript": "if (typeof IPython !== 'undefined') { IPython.OutputArea.prototype._should_scroll = function(lines){ return false; }}",
      "text/plain": [
       "<IPython.core.display.Javascript object>"
      ]
     },
     "metadata": {},
     "output_type": "display_data"
    }
   ],
   "source": [
    "import pyam"
   ]
  },
  {
   "cell_type": "code",
   "execution_count": 2,
   "metadata": {},
   "outputs": [],
   "source": [
    "models_i = [\n",
    "    'TIAM-ECN 1.2',\n",
    "    'Euro-Calliope 2.0'\n",
    "]\n",
    "var_i = [\n",
    "    'Final Energy|Electricity',\n",
    "    'Secondary Energy|Electricity',\n",
    "    'Secondary Energy|Electricity|Biomass',\n",
    "    'Secondary Energy|Electricity|Coal',\n",
    "    'Secondary Energy|Electricity|Gas',\n",
    "    'Secondary Energy|Electricity|Geothermal',\n",
    "    'Secondary Energy|Electricity|Hydro',\n",
    "    'Secondary Energy|Electricity|Nuclear',\n",
    "    'Secondary Energy|Electricity|Ocean',\n",
    "    'Secondary Energy|Electricity|Oil',\n",
    "    'Secondary Energy|Electricity|Solar',\n",
    "    'Secondary Energy|Electricity|Solar|PV',\n",
    "    'Secondary Energy|Electricity|Solar|CSP',\n",
    "    'Secondary Energy|Electricity|Wind',\n",
    "    'Secondary Energy|Electricity|Wind|Offshore',\n",
    "    'Secondary Energy|Electricity|Wind|Onshore',\n",
    "    'Emissions|CO2|Energy|Supply',\n",
    "    'Emissions|CO2|Energy|Supply|Electricity',\n",
    "    'Emissions|CH4|Energy|Supply',\n",
    "]\n",
    "years_i = [\n",
    "    2050\n",
    "]\n",
    "scen_i = [\n",
    "    'DIAG-C400-lin'\n",
    "]"
   ]
  },
  {
   "cell_type": "code",
   "execution_count": 3,
   "metadata": {},
   "outputs": [
    {
     "name": "stderr",
     "output_type": "stream",
     "text": [
      "pyam - INFO: Running in a notebook, setting up a basic logging at level INFO\n",
      "pyam.iiasa - INFO: You are connected to the IXSE_ECEMF scenario explorer hosted by IIASA. If you use this data in any published format, please cite the data as provided in the explorer guidelines: https://data.ece.iiasa.ac.at/ecemf/#/about\n",
      "pyam.iiasa - INFO: You are connected as user `haukehenke`\n"
     ]
    }
   ],
   "source": [
    "conn = pyam.iiasa.Connection('ecemf')\n",
    "df = conn.query(\n",
    "    model=models_i,\n",
    "    variable=var_i,\n",
    "    year=years_i,\n",
    "    scenario=scen_i\n",
    ")"
   ]
  },
  {
   "cell_type": "code",
   "execution_count": 4,
   "metadata": {},
   "outputs": [],
   "source": [
    "df = df.filter(year=2050)"
   ]
  },
  {
   "cell_type": "code",
   "execution_count": 5,
   "metadata": {},
   "outputs": [
    {
     "data": {
      "text/plain": [
       "<bound method IamDataFrame.info of <class 'pyam.core.IamDataFrame'>\n",
       "Index:\n",
       " * model    : Euro-Calliope 2.0, TIAM-ECN 1.2 (2)\n",
       " * scenario : DIAG-C400-lin (1)\n",
       "Timeseries data coordinates:\n",
       "   region   : Albania, Austria, Baltics, Belgium, ... World (78)\n",
       "   variable : Emissions|CH4|Energy|Supply, ... (18)\n",
       "   unit     : EJ/yr, Mt CH4/yr, Mt CO2/yr (3)\n",
       "   year     : 2050 (1)\n",
       "Meta indicators:\n",
       "   version (int64) 1 (1)\n",
       "   Work package (object) WP1 (1)\n",
       "   citation (object) Pietzcker et al., 2023, ZENODO (1)\n",
       "   Scenario type (object) Diagnostic (1)\n",
       "   coverage: EU27 & UK (object) yes, nan (2)\n",
       "   ...>"
      ]
     },
     "execution_count": 5,
     "metadata": {},
     "output_type": "execute_result"
    }
   ],
   "source": [
    "df.info"
   ]
  },
  {
   "cell_type": "code",
   "execution_count": 6,
   "metadata": {},
   "outputs": [],
   "source": [
    "df.to_excel('ecemf_openmod_data-handout.xlsx', iamc_index=True)"
   ]
  },
  {
   "cell_type": "code",
   "execution_count": null,
   "metadata": {},
   "outputs": [],
   "source": []
  }
 ],
 "metadata": {
  "kernelspec": {
   "display_name": "ecemf_diagnostic_plots",
   "language": "python",
   "name": "python3"
  },
  "language_info": {
   "codemirror_mode": {
    "name": "ipython",
    "version": 3
   },
   "file_extension": ".py",
   "mimetype": "text/x-python",
   "name": "python",
   "nbconvert_exporter": "python",
   "pygments_lexer": "ipython3",
   "version": "3.10.6"
  },
  "orig_nbformat": 4
 },
 "nbformat": 4,
 "nbformat_minor": 2
}
